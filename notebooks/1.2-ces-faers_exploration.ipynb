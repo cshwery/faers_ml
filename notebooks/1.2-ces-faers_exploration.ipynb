{
 "cells": [
  {
   "cell_type": "code",
   "execution_count": 1,
   "metadata": {},
   "outputs": [],
   "source": [
    "import sys\n",
    "#put root in path\n",
    "sys.path.append('../')\n",
    "from src.data import helpers\n",
    "import sklearn\n",
    "import pandas as pd\n",
    "import numpy as np\n",
    "import pycaret"
   ]
  },
  {
   "cell_type": "code",
   "execution_count": 2,
   "metadata": {},
   "outputs": [],
   "source": [
    "from requests.auth import HTTPBasicAuth\n",
    "import requests"
   ]
  },
  {
   "cell_type": "code",
   "execution_count": 78,
   "metadata": {},
   "outputs": [],
   "source": [
    "params_faslodex_xeloda = {'search': ['receivedate=[20040101+TO+20201024]'\n",
    "             ,'(patient.drug.medicinalproduct.exact=faslodex+xeloda)'.upper()\n",
    "             #,'patient.drug.medicinalproduct.exact':'xeloda'.upper()                      \n",
    "                                    ]\n",
    "             #, 'count':'patient.drug.medicinalproduct'\n",
    "             ,'limit':1000\n",
    "             #,'skip':30000\n",
    "            }"
   ]
  },
  {
   "cell_type": "code",
   "execution_count": 79,
   "metadata": {},
   "outputs": [],
   "source": [
    "faersApi = helpers.FaersApi()"
   ]
  },
  {
   "cell_type": "code",
   "execution_count": 80,
   "metadata": {},
   "outputs": [],
   "source": [
    "resp = faersApi.make_call(params_faslodex_xeloda)"
   ]
  },
  {
   "cell_type": "code",
   "execution_count": 81,
   "metadata": {},
   "outputs": [
    {
     "data": {
      "text/plain": [
       "'https://api.fda.gov/drug/event.json?api_key=AxJ349dp7cWgZrO4dYC7mk3M4cTqHqa4n375Fao0&search=receivedate=%5B20040101+TO+20201024%5D+AND+(PATIENT.DRUG.MEDICINALPRODUCT.EXACT=FASLODEX+XELODA)&limit=1000'"
      ]
     },
     "execution_count": 81,
     "metadata": {},
     "output_type": "execute_result"
    }
   ],
   "source": [
    "resp.url"
   ]
  },
  {
   "cell_type": "code",
   "execution_count": 82,
   "metadata": {},
   "outputs": [
    {
     "data": {
      "text/plain": [
       "1301"
      ]
     },
     "execution_count": 82,
     "metadata": {},
     "output_type": "execute_result"
    }
   ],
   "source": [
    "54877 + 13590-67166"
   ]
  },
  {
   "cell_type": "code",
   "execution_count": 84,
   "metadata": {},
   "outputs": [
    {
     "data": {
      "text/plain": [
       "{'disclaimer': 'Do not rely on openFDA to make decisions regarding medical care. While we make every effort to ensure that data is accurate, you should assume all results are unvalidated. We may limit or otherwise restrict your access to the API in line with our Terms of Service.',\n",
       " 'terms': 'https://open.fda.gov/terms/',\n",
       " 'license': 'https://open.fda.gov/license/',\n",
       " 'last_updated': '2020-10-24',\n",
       " 'results': {'skip': 0, 'limit': 1000, 'total': 67166}}"
      ]
     },
     "execution_count": 84,
     "metadata": {},
     "output_type": "execute_result"
    }
   ],
   "source": [
    "resp.json()['meta']"
   ]
  },
  {
   "cell_type": "code",
   "execution_count": 85,
   "metadata": {},
   "outputs": [
    {
     "name": "stdout",
     "output_type": "stream",
     "text": [
      "https://api.fda.gov/drug/event.json?search=receivedate%3D%5B20040101%20TO%2020201024%5D%20AND%20%28PATIENT.DRUG.MEDICINALPRODUCT.EXACT%3DFASLODEX%20XELODA%29&limit=1000&skip=0&search_after=0%3Dsafetyreport%252310227108\n",
      "https://api.fda.gov/drug/event.json?search=receivedate%3D%5B20040101%20TO%2020201024%5D%20AND%20%28PATIENT.DRUG.MEDICINALPRODUCT.EXACT%3DFASLODEX%20XELODA%29&limit=1000&skip=0&search_after=0%3Dsafetyreport%252310498611\n",
      "https://api.fda.gov/drug/event.json?search=receivedate%3D%5B20040101%20TO%2020201024%5D%20AND%20%28PATIENT.DRUG.MEDICINALPRODUCT.EXACT%3DFASLODEX%20XELODA%29&limit=1000&skip=0&search_after=0%3Dsafetyreport%252310754235\n",
      "https://api.fda.gov/drug/event.json?search=receivedate%3D%5B20040101%20TO%2020201024%5D%20AND%20%28PATIENT.DRUG.MEDICINALPRODUCT.EXACT%3DFASLODEX%20XELODA%29&limit=1000&skip=0&search_after=0%3Dsafetyreport%252311120257\n",
      "https://api.fda.gov/drug/event.json?search=receivedate%3D%5B20040101%20TO%2020201024%5D%20AND%20%28PATIENT.DRUG.MEDICINALPRODUCT.EXACT%3DFASLODEX%20XELODA%29&limit=1000&skip=0&search_after=0%3Dsafetyreport%252311403989\n",
      "https://api.fda.gov/drug/event.json?search=receivedate%3D%5B20040101%20TO%2020201024%5D%20AND%20%28PATIENT.DRUG.MEDICINALPRODUCT.EXACT%3DFASLODEX%20XELODA%29&limit=1000&skip=0&search_after=0%3Dsafetyreport%252311791346\n",
      "https://api.fda.gov/drug/event.json?search=receivedate%3D%5B20040101%20TO%2020201024%5D%20AND%20%28PATIENT.DRUG.MEDICINALPRODUCT.EXACT%3DFASLODEX%20XELODA%29&limit=1000&skip=0&search_after=0%3Dsafetyreport%252312167079\n",
      "https://api.fda.gov/drug/event.json?search=receivedate%3D%5B20040101%20TO%2020201024%5D%20AND%20%28PATIENT.DRUG.MEDICINALPRODUCT.EXACT%3DFASLODEX%20XELODA%29&limit=1000&skip=0&search_after=0%3Dsafetyreport%252312435011\n",
      "https://api.fda.gov/drug/event.json?search=receivedate%3D%5B20040101%20TO%2020201024%5D%20AND%20%28PATIENT.DRUG.MEDICINALPRODUCT.EXACT%3DFASLODEX%20XELODA%29&limit=1000&skip=0&search_after=0%3Dsafetyreport%252312610996\n",
      "https://api.fda.gov/drug/event.json?search=receivedate%3D%5B20040101%20TO%2020201024%5D%20AND%20%28PATIENT.DRUG.MEDICINALPRODUCT.EXACT%3DFASLODEX%20XELODA%29&limit=1000&skip=0&search_after=0%3Dsafetyreport%252312899256\n",
      "https://api.fda.gov/drug/event.json?search=receivedate%3D%5B20040101%20TO%2020201024%5D%20AND%20%28PATIENT.DRUG.MEDICINALPRODUCT.EXACT%3DFASLODEX%20XELODA%29&limit=1000&skip=0&search_after=0%3Dsafetyreport%252313171819\n",
      "https://api.fda.gov/drug/event.json?search=receivedate%3D%5B20040101%20TO%2020201024%5D%20AND%20%28PATIENT.DRUG.MEDICINALPRODUCT.EXACT%3DFASLODEX%20XELODA%29&limit=1000&skip=0&search_after=0%3Dsafetyreport%252313483356\n",
      "https://api.fda.gov/drug/event.json?search=receivedate%3D%5B20040101%20TO%2020201024%5D%20AND%20%28PATIENT.DRUG.MEDICINALPRODUCT.EXACT%3DFASLODEX%20XELODA%29&limit=1000&skip=0&search_after=0%3Dsafetyreport%252313644418\n",
      "https://api.fda.gov/drug/event.json?search=receivedate%3D%5B20040101%20TO%2020201024%5D%20AND%20%28PATIENT.DRUG.MEDICINALPRODUCT.EXACT%3DFASLODEX%20XELODA%29&limit=1000&skip=0&search_after=0%3Dsafetyreport%252313652548\n",
      "https://api.fda.gov/drug/event.json?search=receivedate%3D%5B20040101%20TO%2020201024%5D%20AND%20%28PATIENT.DRUG.MEDICINALPRODUCT.EXACT%3DFASLODEX%20XELODA%29&limit=1000&skip=0&search_after=0%3Dsafetyreport%252313666105\n",
      "https://api.fda.gov/drug/event.json?search=receivedate%3D%5B20040101%20TO%2020201024%5D%20AND%20%28PATIENT.DRUG.MEDICINALPRODUCT.EXACT%3DFASLODEX%20XELODA%29&limit=1000&skip=0&search_after=0%3Dsafetyreport%252313670750\n",
      "https://api.fda.gov/drug/event.json?search=receivedate%3D%5B20040101%20TO%2020201024%5D%20AND%20%28PATIENT.DRUG.MEDICINALPRODUCT.EXACT%3DFASLODEX%20XELODA%29&limit=1000&skip=0&search_after=0%3Dsafetyreport%252313725128\n",
      "https://api.fda.gov/drug/event.json?search=receivedate%3D%5B20040101%20TO%2020201024%5D%20AND%20%28PATIENT.DRUG.MEDICINALPRODUCT.EXACT%3DFASLODEX%20XELODA%29&limit=1000&skip=0&search_after=0%3Dsafetyreport%252313964240\n",
      "https://api.fda.gov/drug/event.json?search=receivedate%3D%5B20040101%20TO%2020201024%5D%20AND%20%28PATIENT.DRUG.MEDICINALPRODUCT.EXACT%3DFASLODEX%20XELODA%29&limit=1000&skip=0&search_after=0%3Dsafetyreport%252314205740\n",
      "https://api.fda.gov/drug/event.json?search=receivedate%3D%5B20040101%20TO%2020201024%5D%20AND%20%28PATIENT.DRUG.MEDICINALPRODUCT.EXACT%3DFASLODEX%20XELODA%29&limit=1000&skip=0&search_after=0%3Dsafetyreport%252314413573\n",
      "https://api.fda.gov/drug/event.json?search=receivedate%3D%5B20040101%20TO%2020201024%5D%20AND%20%28PATIENT.DRUG.MEDICINALPRODUCT.EXACT%3DFASLODEX%20XELODA%29&limit=1000&skip=0&search_after=0%3Dsafetyreport%252314641682\n",
      "https://api.fda.gov/drug/event.json?search=receivedate%3D%5B20040101%20TO%2020201024%5D%20AND%20%28PATIENT.DRUG.MEDICINALPRODUCT.EXACT%3DFASLODEX%20XELODA%29&limit=1000&skip=0&search_after=0%3Dsafetyreport%252314876094\n",
      "https://api.fda.gov/drug/event.json?search=receivedate%3D%5B20040101%20TO%2020201024%5D%20AND%20%28PATIENT.DRUG.MEDICINALPRODUCT.EXACT%3DFASLODEX%20XELODA%29&limit=1000&skip=0&search_after=0%3Dsafetyreport%252315061217\n",
      "https://api.fda.gov/drug/event.json?search=receivedate%3D%5B20040101%20TO%2020201024%5D%20AND%20%28PATIENT.DRUG.MEDICINALPRODUCT.EXACT%3DFASLODEX%20XELODA%29&limit=1000&skip=0&search_after=0%3Dsafetyreport%252315260369\n",
      "https://api.fda.gov/drug/event.json?search=receivedate%3D%5B20040101%20TO%2020201024%5D%20AND%20%28PATIENT.DRUG.MEDICINALPRODUCT.EXACT%3DFASLODEX%20XELODA%29&limit=1000&skip=0&search_after=0%3Dsafetyreport%252315468369\n",
      "https://api.fda.gov/drug/event.json?search=receivedate%3D%5B20040101%20TO%2020201024%5D%20AND%20%28PATIENT.DRUG.MEDICINALPRODUCT.EXACT%3DFASLODEX%20XELODA%29&limit=1000&skip=0&search_after=0%3Dsafetyreport%252315681872\n",
      "https://api.fda.gov/drug/event.json?search=receivedate%3D%5B20040101%20TO%2020201024%5D%20AND%20%28PATIENT.DRUG.MEDICINALPRODUCT.EXACT%3DFASLODEX%20XELODA%29&limit=1000&skip=0&search_after=0%3Dsafetyreport%252315898456\n",
      "https://api.fda.gov/drug/event.json?search=receivedate%3D%5B20040101%20TO%2020201024%5D%20AND%20%28PATIENT.DRUG.MEDICINALPRODUCT.EXACT%3DFASLODEX%20XELODA%29&limit=1000&skip=0&search_after=0%3Dsafetyreport%252316091075\n",
      "https://api.fda.gov/drug/event.json?search=receivedate%3D%5B20040101%20TO%2020201024%5D%20AND%20%28PATIENT.DRUG.MEDICINALPRODUCT.EXACT%3DFASLODEX%20XELODA%29&limit=1000&skip=0&search_after=0%3Dsafetyreport%252316285151\n",
      "https://api.fda.gov/drug/event.json?search=receivedate%3D%5B20040101%20TO%2020201024%5D%20AND%20%28PATIENT.DRUG.MEDICINALPRODUCT.EXACT%3DFASLODEX%20XELODA%29&limit=1000&skip=0&search_after=0%3Dsafetyreport%252316465865\n",
      "https://api.fda.gov/drug/event.json?search=receivedate%3D%5B20040101%20TO%2020201024%5D%20AND%20%28PATIENT.DRUG.MEDICINALPRODUCT.EXACT%3DFASLODEX%20XELODA%29&limit=1000&skip=0&search_after=0%3Dsafetyreport%252316624183\n",
      "https://api.fda.gov/drug/event.json?search=receivedate%3D%5B20040101%20TO%2020201024%5D%20AND%20%28PATIENT.DRUG.MEDICINALPRODUCT.EXACT%3DFASLODEX%20XELODA%29&limit=1000&skip=0&search_after=0%3Dsafetyreport%252316804160\n",
      "https://api.fda.gov/drug/event.json?search=receivedate%3D%5B20040101%20TO%2020201024%5D%20AND%20%28PATIENT.DRUG.MEDICINALPRODUCT.EXACT%3DFASLODEX%20XELODA%29&limit=1000&skip=0&search_after=0%3Dsafetyreport%252316979879\n",
      "https://api.fda.gov/drug/event.json?search=receivedate%3D%5B20040101%20TO%2020201024%5D%20AND%20%28PATIENT.DRUG.MEDICINALPRODUCT.EXACT%3DFASLODEX%20XELODA%29&limit=1000&skip=0&search_after=0%3Dsafetyreport%252317153543\n",
      "https://api.fda.gov/drug/event.json?search=receivedate%3D%5B20040101%20TO%2020201024%5D%20AND%20%28PATIENT.DRUG.MEDICINALPRODUCT.EXACT%3DFASLODEX%20XELODA%29&limit=1000&skip=0&search_after=0%3Dsafetyreport%252317353169\n",
      "https://api.fda.gov/drug/event.json?search=receivedate%3D%5B20040101%20TO%2020201024%5D%20AND%20%28PATIENT.DRUG.MEDICINALPRODUCT.EXACT%3DFASLODEX%20XELODA%29&limit=1000&skip=0&search_after=0%3Dsafetyreport%252317532092\n",
      "https://api.fda.gov/drug/event.json?search=receivedate%3D%5B20040101%20TO%2020201024%5D%20AND%20%28PATIENT.DRUG.MEDICINALPRODUCT.EXACT%3DFASLODEX%20XELODA%29&limit=1000&skip=0&search_after=0%3Dsafetyreport%252317711766\n",
      "https://api.fda.gov/drug/event.json?search=receivedate%3D%5B20040101%20TO%2020201024%5D%20AND%20%28PATIENT.DRUG.MEDICINALPRODUCT.EXACT%3DFASLODEX%20XELODA%29&limit=1000&skip=0&search_after=0%3Dsafetyreport%252317871806\n"
     ]
    },
    {
     "name": "stdout",
     "output_type": "stream",
     "text": [
      "https://api.fda.gov/drug/event.json?search=receivedate%3D%5B20040101%20TO%2020201024%5D%20AND%20%28PATIENT.DRUG.MEDICINALPRODUCT.EXACT%3DFASLODEX%20XELODA%29&limit=1000&skip=0&search_after=0%3Dsafetyreport%252317961300\n",
      "https://api.fda.gov/drug/event.json?search=receivedate%3D%5B20040101%20TO%2020201024%5D%20AND%20%28PATIENT.DRUG.MEDICINALPRODUCT.EXACT%3DFASLODEX%20XELODA%29&limit=1000&skip=0&search_after=0%3Dsafetyreport%25235481695\n",
      "https://api.fda.gov/drug/event.json?search=receivedate%3D%5B20040101%20TO%2020201024%5D%20AND%20%28PATIENT.DRUG.MEDICINALPRODUCT.EXACT%3DFASLODEX%20XELODA%29&limit=1000&skip=0&search_after=0%3Dsafetyreport%25235821082\n",
      "https://api.fda.gov/drug/event.json?search=receivedate%3D%5B20040101%20TO%2020201024%5D%20AND%20%28PATIENT.DRUG.MEDICINALPRODUCT.EXACT%3DFASLODEX%20XELODA%29&limit=1000&skip=0&search_after=0%3Dsafetyreport%25236072113\n",
      "https://api.fda.gov/drug/event.json?search=receivedate%3D%5B20040101%20TO%2020201024%5D%20AND%20%28PATIENT.DRUG.MEDICINALPRODUCT.EXACT%3DFASLODEX%20XELODA%29&limit=1000&skip=0&search_after=0%3Dsafetyreport%25236288311\n",
      "https://api.fda.gov/drug/event.json?search=receivedate%3D%5B20040101%20TO%2020201024%5D%20AND%20%28PATIENT.DRUG.MEDICINALPRODUCT.EXACT%3DFASLODEX%20XELODA%29&limit=1000&skip=0&search_after=0%3Dsafetyreport%25236393730\n",
      "https://api.fda.gov/drug/event.json?search=receivedate%3D%5B20040101%20TO%2020201024%5D%20AND%20%28PATIENT.DRUG.MEDICINALPRODUCT.EXACT%3DFASLODEX%20XELODA%29&limit=1000&skip=0&search_after=0%3Dsafetyreport%25236587019\n",
      "https://api.fda.gov/drug/event.json?search=receivedate%3D%5B20040101%20TO%2020201024%5D%20AND%20%28PATIENT.DRUG.MEDICINALPRODUCT.EXACT%3DFASLODEX%20XELODA%29&limit=1000&skip=0&search_after=0%3Dsafetyreport%25236722118\n",
      "https://api.fda.gov/drug/event.json?search=receivedate%3D%5B20040101%20TO%2020201024%5D%20AND%20%28PATIENT.DRUG.MEDICINALPRODUCT.EXACT%3DFASLODEX%20XELODA%29&limit=1000&skip=0&search_after=0%3Dsafetyreport%25236865155\n",
      "https://api.fda.gov/drug/event.json?search=receivedate%3D%5B20040101%20TO%2020201024%5D%20AND%20%28PATIENT.DRUG.MEDICINALPRODUCT.EXACT%3DFASLODEX%20XELODA%29&limit=1000&skip=0&search_after=0%3Dsafetyreport%25236989887\n",
      "https://api.fda.gov/drug/event.json?search=receivedate%3D%5B20040101%20TO%2020201024%5D%20AND%20%28PATIENT.DRUG.MEDICINALPRODUCT.EXACT%3DFASLODEX%20XELODA%29&limit=1000&skip=0&search_after=0%3Dsafetyreport%25237108645\n",
      "https://api.fda.gov/drug/event.json?search=receivedate%3D%5B20040101%20TO%2020201024%5D%20AND%20%28PATIENT.DRUG.MEDICINALPRODUCT.EXACT%3DFASLODEX%20XELODA%29&limit=1000&skip=0&search_after=0%3Dsafetyreport%25237236656\n",
      "https://api.fda.gov/drug/event.json?search=receivedate%3D%5B20040101%20TO%2020201024%5D%20AND%20%28PATIENT.DRUG.MEDICINALPRODUCT.EXACT%3DFASLODEX%20XELODA%29&limit=1000&skip=0&search_after=0%3Dsafetyreport%25237376293\n",
      "https://api.fda.gov/drug/event.json?search=receivedate%3D%5B20040101%20TO%2020201024%5D%20AND%20%28PATIENT.DRUG.MEDICINALPRODUCT.EXACT%3DFASLODEX%20XELODA%29&limit=1000&skip=0&search_after=0%3Dsafetyreport%25237575028\n",
      "https://api.fda.gov/drug/event.json?search=receivedate%3D%5B20040101%20TO%2020201024%5D%20AND%20%28PATIENT.DRUG.MEDICINALPRODUCT.EXACT%3DFASLODEX%20XELODA%29&limit=1000&skip=0&search_after=0%3Dsafetyreport%25237753832\n",
      "https://api.fda.gov/drug/event.json?search=receivedate%3D%5B20040101%20TO%2020201024%5D%20AND%20%28PATIENT.DRUG.MEDICINALPRODUCT.EXACT%3DFASLODEX%20XELODA%29&limit=1000&skip=0&search_after=0%3Dsafetyreport%25237940034\n",
      "https://api.fda.gov/drug/event.json?search=receivedate%3D%5B20040101%20TO%2020201024%5D%20AND%20%28PATIENT.DRUG.MEDICINALPRODUCT.EXACT%3DFASLODEX%20XELODA%29&limit=1000&skip=0&search_after=0%3Dsafetyreport%25238166409\n",
      "https://api.fda.gov/drug/event.json?search=receivedate%3D%5B20040101%20TO%2020201024%5D%20AND%20%28PATIENT.DRUG.MEDICINALPRODUCT.EXACT%3DFASLODEX%20XELODA%29&limit=1000&skip=0&search_after=0%3Dsafetyreport%25238385464\n",
      "https://api.fda.gov/drug/event.json?search=receivedate%3D%5B20040101%20TO%2020201024%5D%20AND%20%28PATIENT.DRUG.MEDICINALPRODUCT.EXACT%3DFASLODEX%20XELODA%29&limit=1000&skip=0&search_after=0%3Dsafetyreport%25238541062\n",
      "https://api.fda.gov/drug/event.json?search=receivedate%3D%5B20040101%20TO%2020201024%5D%20AND%20%28PATIENT.DRUG.MEDICINALPRODUCT.EXACT%3DFASLODEX%20XELODA%29&limit=1000&skip=0&search_after=0%3Dsafetyreport%25238678912\n",
      "https://api.fda.gov/drug/event.json?search=receivedate%3D%5B20040101%20TO%2020201024%5D%20AND%20%28PATIENT.DRUG.MEDICINALPRODUCT.EXACT%3DFASLODEX%20XELODA%29&limit=1000&skip=0&search_after=0%3Dsafetyreport%25238795591\n",
      "https://api.fda.gov/drug/event.json?search=receivedate%3D%5B20040101%20TO%2020201024%5D%20AND%20%28PATIENT.DRUG.MEDICINALPRODUCT.EXACT%3DFASLODEX%20XELODA%29&limit=1000&skip=0&search_after=0%3Dsafetyreport%25238843590\n",
      "https://api.fda.gov/drug/event.json?search=receivedate%3D%5B20040101%20TO%2020201024%5D%20AND%20%28PATIENT.DRUG.MEDICINALPRODUCT.EXACT%3DFASLODEX%20XELODA%29&limit=1000&skip=0&search_after=0%3Dsafetyreport%25238930505\n",
      "https://api.fda.gov/drug/event.json?search=receivedate%3D%5B20040101%20TO%2020201024%5D%20AND%20%28PATIENT.DRUG.MEDICINALPRODUCT.EXACT%3DFASLODEX%20XELODA%29&limit=1000&skip=0&search_after=0%3Dsafetyreport%25239025909\n",
      "https://api.fda.gov/drug/event.json?search=receivedate%3D%5B20040101%20TO%2020201024%5D%20AND%20%28PATIENT.DRUG.MEDICINALPRODUCT.EXACT%3DFASLODEX%20XELODA%29&limit=1000&skip=0&search_after=0%3Dsafetyreport%25239204790\n",
      "https://api.fda.gov/drug/event.json?search=receivedate%3D%5B20040101%20TO%2020201024%5D%20AND%20%28PATIENT.DRUG.MEDICINALPRODUCT.EXACT%3DFASLODEX%20XELODA%29&limit=1000&skip=0&search_after=0%3Dsafetyreport%25239364854\n",
      "https://api.fda.gov/drug/event.json?search=receivedate%3D%5B20040101%20TO%2020201024%5D%20AND%20%28PATIENT.DRUG.MEDICINALPRODUCT.EXACT%3DFASLODEX%20XELODA%29&limit=1000&skip=0&search_after=0%3Dsafetyreport%25239523179\n",
      "https://api.fda.gov/drug/event.json?search=receivedate%3D%5B20040101%20TO%2020201024%5D%20AND%20%28PATIENT.DRUG.MEDICINALPRODUCT.EXACT%3DFASLODEX%20XELODA%29&limit=1000&skip=0&search_after=0%3Dsafetyreport%25239730709\n",
      "https://api.fda.gov/drug/event.json?search=receivedate%3D%5B20040101%20TO%2020201024%5D%20AND%20%28PATIENT.DRUG.MEDICINALPRODUCT.EXACT%3DFASLODEX%20XELODA%29&limit=1000&skip=0&search_after=0%3Dsafetyreport%25239927806\n"
     ]
    }
   ],
   "source": [
    "params_faslodex_xeloda = {'search': ['receivedate=[20040101+TO+20201024]'\n",
    "             ,'(patient.drug.medicinalproduct.exact=faslodex+xeloda)'.upper()\n",
    "             #,'patient.drug.medicinalproduct.exact':'xeloda'.upper()                      \n",
    "                                    ]\n",
    "             #, 'count':'patient.drug.medicinalproduct'\n",
    "             ,'limit':1000\n",
    "             #,'skip':30000\n",
    "            }\n",
    "results_list = [] \n",
    "resp = faersApi.make_call(params_faslodex_xeloda)\n",
    "results_list.extend(resp.json()['results'])\n",
    "while resp.links.get('next') and resp.links['next'].get('url'):\n",
    "    print(resp.links['next'].get('url'))\n",
    "    resp = requests.get(resp.links['next'].get('url'),auth=HTTPBasicAuth('AxJ349dp7cWgZrO4dYC7mk3M4cTqHqa4n375Fao0',''))\n",
    "    results_list.extend(resp.json()['results'])"
   ]
  },
  {
   "cell_type": "code",
   "execution_count": 86,
   "metadata": {},
   "outputs": [
    {
     "data": {
      "text/plain": [
       "67166"
      ]
     },
     "execution_count": 86,
     "metadata": {},
     "output_type": "execute_result"
    }
   ],
   "source": [
    "len(results_list)"
   ]
  },
  {
   "cell_type": "code",
   "execution_count": null,
   "metadata": {},
   "outputs": [],
   "source": [
    "if resp.links.get('next') and resp.links['next'].get('url'):\n",
    "    print(resp.links['next'].get('url'))\n",
    "    resp = requests.get(resp.links['next'].get('url'),auth=HTTPBasicAuth('AxJ349dp7cWgZrO4dYC7mk3M4cTqHqa4n375Fao0',''))"
   ]
  },
  {
   "cell_type": "code",
   "execution_count": null,
   "metadata": {},
   "outputs": [],
   "source": [
    "resp = requests.get(resp.links['next'].get('url'),auth=HTTPBasicAuth('AxJ349dp7cWgZrO4dYC7mk3M4cTqHqa4n375Fao0',''))"
   ]
  },
  {
   "cell_type": "code",
   "execution_count": null,
   "metadata": {},
   "outputs": [],
   "source": [
    "results_dict = [] \n",
    "resp = faersApi.make_call(params_faslodex_xeloda).json()\n",
    "while resp.links['next']['url']"
   ]
  },
  {
   "cell_type": "code",
   "execution_count": null,
   "metadata": {},
   "outputs": [],
   "source": [
    "resp.links"
   ]
  },
  {
   "cell_type": "code",
   "execution_count": null,
   "metadata": {},
   "outputs": [],
   "source": [
    "if resp.links.get('next') and resp.links['next'].get('url'):\n",
    "    print(resp.links['next'].get('url'))"
   ]
  },
  {
   "cell_type": "code",
   "execution_count": null,
   "metadata": {},
   "outputs": [],
   "source": [
    "resp.json()['results'][0:5]"
   ]
  },
  {
   "cell_type": "code",
   "execution_count": null,
   "metadata": {},
   "outputs": [],
   "source": [
    "resp.json()['results'][0:5]"
   ]
  },
  {
   "cell_type": "code",
   "execution_count": null,
   "metadata": {},
   "outputs": [],
   "source": []
  }
 ],
 "metadata": {
  "kernelspec": {
   "display_name": "faers-env",
   "language": "python",
   "name": "faers-env"
  },
  "language_info": {
   "codemirror_mode": {
    "name": "ipython",
    "version": 3
   },
   "file_extension": ".py",
   "mimetype": "text/x-python",
   "name": "python",
   "nbconvert_exporter": "python",
   "pygments_lexer": "ipython3",
   "version": "3.7.3"
  }
 },
 "nbformat": 4,
 "nbformat_minor": 4
}
