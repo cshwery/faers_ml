{
 "cells": [
  {
   "cell_type": "code",
   "execution_count": 1,
   "metadata": {},
   "outputs": [],
   "source": [
    "import pandas as pd\n",
    "import requests\n",
    "import json\n",
    "import sys\n",
    "#put root in path\n",
    "sys.path.append('../')\n",
    "from src.data import helpers\n",
    "from src.data import faers_translations\n",
    "from copy import copy"
   ]
  },
  {
   "cell_type": "code",
   "execution_count": 2,
   "metadata": {},
   "outputs": [],
   "source": [
    "faersApi = helpers.FaersApi()"
   ]
  },
  {
   "cell_type": "markdown",
   "metadata": {},
   "source": [
    "# Get Data\n",
    "Take top 10 interactions for each drug in list, get top 100 patient.reaction.reactionmeddrapt for them.\n",
    "Take top 10 patient.reaction.reactionmeddrapt for each drug in list, get top 1000 interactions for each of them.\n",
    "\n",
    "[best selling a-z drugs](https://www.biopharmadive.com/news/astrazeneca-pharma-dive-awards/566229/#:~:text=Lung%20cancer%20drug%20Tagrisso%20has,overtaking%20Symbicort%20earlier%20this%20year.)\n"
   ]
  },
  {
   "cell_type": "code",
   "execution_count": 3,
   "metadata": {},
   "outputs": [
    {
     "data": {
      "text/plain": [
       "['SYMBICORT',\n",
       " 'TAGRISSO',\n",
       " 'NEXIUM',\n",
       " 'CRESTOR',\n",
       " 'FARXIGA',\n",
       " 'BRILINTA',\n",
       " 'PULMICORT',\n",
       " 'FASLODEX',\n",
       " 'ZOLADEX',\n",
       " 'SELOKEN',\n",
       " 'TOPROL-XL']"
      ]
     },
     "execution_count": 3,
     "metadata": {},
     "output_type": "execute_result"
    }
   ],
   "source": [
    "a_z_drugs = ['symbicort','tagrisso','nexium','crestor','farxiga','brilinta','pulmicort','faslodex','zoladex','seloken','toprol-xl']\n",
    "A_Z_drugs = [drug.upper() for drug in a_z_drugs]\n",
    "A_Z_drugs"
   ]
  },
  {
   "cell_type": "code",
   "execution_count": 5,
   "metadata": {},
   "outputs": [],
   "source": [
    "params_100 = {'search': {'receivedate': '[20040101+TO+20201024]'}#,'patient.drug.medicinalproduct':'symbicort'.upper()}\n",
    "          #, 'count':'patient.drug.medicinalproduct'\n",
    "        ,'limit':100}\n",
    "params_10_interacts = {'search': {'receivedate': '[20040101+TO+20201024]'}#,'patient.drug.medicinalproduct':'symbicort'.upper()}\n",
    "          , 'count':'patient.drug.medicinalproduct.exact'\n",
    "        ,'limit':10}\n",
    "params_10_reacts = {'search': {'receivedate': '[20040101+TO+20201024]'}#,'patient.drug.medicinalproduct':'symbicort'.upper()}\n",
    "          , 'count':'patient.reaction.reactionmeddrapt.exact'\n",
    "        ,'limit':10}"
   ]
  },
  {
   "cell_type": "code",
   "execution_count": 6,
   "metadata": {},
   "outputs": [],
   "source": [
    "for drug in A_Z_drugs:\n",
    "    #Get top 10 interactions\n",
    "    params_10_interacts['search'].update({'patient.drug.medicinalproduct':drug})\n",
    "    resp = faersApi.make_call(params_10_interacts)\n",
    "    break"
   ]
  },
  {
   "cell_type": "code",
   "execution_count": 8,
   "metadata": {},
   "outputs": [
    {
     "data": {
      "text/plain": [
       "{'meta': {'disclaimer': 'Do not rely on openFDA to make decisions regarding medical care. While we make every effort to ensure that data is accurate, you should assume all results are unvalidated. We may limit or otherwise restrict your access to the API in line with our Terms of Service.',\n",
       "  'terms': 'https://open.fda.gov/terms/',\n",
       "  'license': 'https://open.fda.gov/license/',\n",
       "  'last_updated': '2020-10-24'},\n",
       " 'results': [{'term': 'SYMBICORT', 'count': 60285},\n",
       "  {'term': 'SPIRIVA', 'count': 11489},\n",
       "  {'term': 'SINGULAIR', 'count': 6654},\n",
       "  {'term': 'PREDNISONE.', 'count': 5643},\n",
       "  {'term': 'VENTOLIN', 'count': 5206},\n",
       "  {'term': 'PROAIR HFA', 'count': 4295},\n",
       "  {'term': 'OMEPRAZOLE.', 'count': 3709},\n",
       "  {'term': 'NEXIUM', 'count': 3500},\n",
       "  {'term': 'ALBUTEROL.', 'count': 3484},\n",
       "  {'term': 'XOLAIR', 'count': 3307}]}"
      ]
     },
     "execution_count": 8,
     "metadata": {},
     "output_type": "execute_result"
    }
   ],
   "source": [
    "resp.json()"
   ]
  },
  {
   "cell_type": "code",
   "execution_count": null,
   "metadata": {},
   "outputs": [],
   "source": []
  }
 ],
 "metadata": {
  "kernelspec": {
   "display_name": "faers-env",
   "language": "python",
   "name": "faers-env"
  },
  "language_info": {
   "codemirror_mode": {
    "name": "ipython",
    "version": 3
   },
   "file_extension": ".py",
   "mimetype": "text/x-python",
   "name": "python",
   "nbconvert_exporter": "python",
   "pygments_lexer": "ipython3",
   "version": "3.7.3"
  }
 },
 "nbformat": 4,
 "nbformat_minor": 4
}
