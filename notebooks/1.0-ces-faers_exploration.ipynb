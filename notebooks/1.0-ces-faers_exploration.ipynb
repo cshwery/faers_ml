{
 "cells": [
  {
   "cell_type": "code",
   "execution_count": 1,
   "metadata": {},
   "outputs": [],
   "source": [
    "import pandas as pd\n",
    "import requests\n",
    "import json\n",
    "import sys\n",
    "#put root in path\n",
    "sys.path.append('../')\n",
    "from src.data import helpers\n",
    "from src.data import faers_translations\n",
    "from copy import copy"
   ]
  },
  {
   "cell_type": "markdown",
   "metadata": {},
   "source": [
    "## Data Details\n",
    "[Fields](https://open.fda.gov/apis/drug/event/searchable-fields/)\n",
    "\n",
    "* patient.patientsex\n",
    "    * \n",
    "* patient.patientonsetage\n",
    "* patient.drug.medicinalproduct\n",
    "    * search=patient.drug.medicinalproduct=\"FOO+BAR\"\n",
    "    \n",
    "        This returns records with FOO *or* BAR in field\n",
    "    * search=patient.drug.medicinalproduct=\"FOO+AND+BAR\"\n",
    "        \n",
    "        This returns records with FOO *AND* BAR in field \n",
    "    * count=patient.drug.medicinalproduct\n",
    "    \n",
    "        This returns counts of records with FOO *or* BAR in field \n",
    "        \n",
    "* patient.reaction.reactionmeddrapt\n",
    "\n",
    "    Patient reaction, as a MedDRA term. Note that these terms are encoded in British English. For instance, diarrhea is spelled diarrohea. MedDRA is a standardized medical terminology.\n",
    "    \n",
    "    * count=patient.reaction.reactionmeddrapt\n",
    "        \n",
    "        This returns counts of specific patient reaction\n",
    "* patient.reaction.reactionoutcome\n",
    "\n",
    "    Outcome of the reaction in reactionmeddrapt at the time of last observation.\n",
    "\n",
    "    Value is one of the following\n",
    "1 = Recovered/resolved\n",
    "2 = Recovering/resolving\n",
    "3 = Not recovered/not resolved\n",
    "4 = Recovered/resolved with sequelae (consequent health issues)\n",
    "5 = Fatal\n",
    "6 = Unknown\n",
    "        \n",
    "    "
   ]
  },
  {
   "cell_type": "code",
   "execution_count": null,
   "metadata": {},
   "outputs": [],
   "source": [
    "params = {'search': {'receivedate': '[20040101+TO+20201024]',\n",
    "  }}\n",
    "params_2 = {'search': {'receivedate': '[20040101+TO+20201024]', 'patient.patientsex': '0', 'patient.reaction.reactionoutcome': '2'}, 'count': 'occurcountry'}"
   ]
  },
  {
   "cell_type": "code",
   "execution_count": 2,
   "metadata": {},
   "outputs": [],
   "source": [
    "faersApi = helpers.FaersApi()"
   ]
  },
  {
   "cell_type": "code",
   "execution_count": 3,
   "metadata": {},
   "outputs": [],
   "source": [
    "f_t = copy(faers_translations)"
   ]
  },
  {
   "cell_type": "code",
   "execution_count": null,
   "metadata": {},
   "outputs": [],
   "source": [
    "#del f_t['patient.patientagegroup']\n",
    "#print(f_t)"
   ]
  },
  {
   "cell_type": "code",
   "execution_count": null,
   "metadata": {},
   "outputs": [],
   "source": [
    "rec_list = faersApi.return_categorical_counts(query_params=params,categories=f_t)"
   ]
  },
  {
   "cell_type": "code",
   "execution_count": null,
   "metadata": {},
   "outputs": [],
   "source": [
    "len(rec_list)"
   ]
  },
  {
   "cell_type": "code",
   "execution_count": null,
   "metadata": {},
   "outputs": [],
   "source": [
    "pd.DataFrame.from_records(rec_list)"
   ]
  },
  {
   "cell_type": "code",
   "execution_count": null,
   "metadata": {},
   "outputs": [],
   "source": [
    "resp = faersApi.make_call(query_params={'search': {'receivedate': '[20040101+TO+20201024]'}, 'count': 'patient.drug.medicinalproduct.exact','limit':1000})"
   ]
  },
  {
   "cell_type": "code",
   "execution_count": null,
   "metadata": {},
   "outputs": [],
   "source": [
    "resp.json()"
   ]
  },
  {
   "cell_type": "code",
   "execution_count": null,
   "metadata": {},
   "outputs": [],
   "source": [
    "resp.json()['results']#.keys()"
   ]
  },
  {
   "cell_type": "markdown",
   "metadata": {},
   "source": [
    "[best selling a-z drugs](https://www.biopharmadive.com/news/astrazeneca-pharma-dive-awards/566229/#:~:text=Lung%20cancer%20drug%20Tagrisso%20has,overtaking%20Symbicort%20earlier%20this%20year.)\n"
   ]
  },
  {
   "cell_type": "code",
   "execution_count": null,
   "metadata": {},
   "outputs": [],
   "source": [
    "a_z_drugs = ['symbicort','tagrisso','nexium','crestor','farxiga','brilinta','pulmicort','faslodex','zoladex','seloken','toprol-xl']"
   ]
  },
  {
   "cell_type": "code",
   "execution_count": null,
   "metadata": {},
   "outputs": [],
   "source": [
    "params = {'search': {'receivedate': '[20040101+TO+20201024]'#,'patient.drug.medicinalproduct':'symbicort'.upper()}\n",
    "          #, 'count':'patient.drug.medicinalproduct'\n",
    "        ,'limit':1000}"
   ]
  },
  {
   "cell_type": "code",
   "execution_count": null,
   "metadata": {},
   "outputs": [],
   "source": [
    "resp = faersApi.make_call(query_params=params)"
   ]
  },
  {
   "cell_type": "code",
   "execution_count": null,
   "metadata": {},
   "outputs": [],
   "source": [
    "resp.json()"
   ]
  },
  {
   "cell_type": "code",
   "execution_count": null,
   "metadata": {},
   "outputs": [],
   "source": [
    "rec_list = faersApi.return_categorical_counts(query_params=params\n",
    "                                        ,categories=faers_translations\n",
    "                                        ,labels= {'primary_drug':'symbicort'.upper(),'timeframe':'all'}\n",
    "                                        ,count_by='patient.reaction.reactionmeddrapt'\n",
    "                                       )"
   ]
  },
  {
   "cell_type": "code",
   "execution_count": null,
   "metadata": {},
   "outputs": [],
   "source": [
    "df = pd.DataFrame.from_records(rec_list)"
   ]
  },
  {
   "cell_type": "code",
   "execution_count": null,
   "metadata": {},
   "outputs": [],
   "source": [
    "df.columns"
   ]
  },
  {
   "cell_type": "code",
   "execution_count": null,
   "metadata": {},
   "outputs": [],
   "source": [
    "df.loc[df['term']!='SYMBICORT'].sort_values('count',ascending=False)"
   ]
  },
  {
   "cell_type": "code",
   "execution_count": null,
   "metadata": {},
   "outputs": [],
   "source": [
    "d_ = {'c':4}\n",
    "records = [{'a':'b'},{'a':'c'}]\n",
    "for rec in records:\n",
    "    rec.update(d_)\n",
    "records"
   ]
  },
  {
   "cell_type": "code",
   "execution_count": null,
   "metadata": {},
   "outputs": [],
   "source": [
    "d_."
   ]
  },
  {
   "cell_type": "code",
   "execution_count": null,
   "metadata": {},
   "outputs": [],
   "source": [
    "pd.DataFrame.from_records(rec['results'][0]['patient']['drug'])"
   ]
  },
  {
   "cell_type": "markdown",
   "metadata": {},
   "source": [
    "# Get Data\n",
    "Take top 10 interactions for each drug in list, get top 100 patient.reaction.reactionmeddrapt for them.\n",
    "Take top 10 patient.reaction.reactionmeddrapt for each drug in list, get top 1000 interactions for each of them."
   ]
  },
  {
   "cell_type": "code",
   "execution_count": 8,
   "metadata": {},
   "outputs": [
    {
     "name": "stdout",
     "output_type": "stream",
     "text": [
      "\t* SYMBICORT\n",
      "\t* TAGRISSO\n",
      "\t* NEXIUM\n",
      "\t* CRESTOR\n",
      "\t* FARXIGA\n",
      "\t* BRILINTA\n",
      "\t* PULMICORT\n",
      "\t* FASLODEX\n",
      "\t* ZOLADEX\n",
      "\t* SELOKEN\n",
      "\t* TOPROL-XL\n"
     ]
    }
   ],
   "source": [
    "a_z_drugs = ['symbicort','tagrisso','nexium','crestor','farxiga','brilinta','pulmicort','faslodex','zoladex','seloken','toprol-xl']\n",
    "A_Z_drugs = [drug.upper() for drug in a_z_drugs]\n",
    "for drug in A_Z_drugs:\n",
    "    print(f'\\t* {drug}')"
   ]
  },
  {
   "cell_type": "code",
   "execution_count": 4,
   "metadata": {},
   "outputs": [
    {
     "data": {
      "text/plain": [
       "{'patient.patientagegroup': {'1': 'Neonate',\n",
       "  '2': 'Infant',\n",
       "  '3': 'Child',\n",
       "  '4': 'Adolescent',\n",
       "  '5': 'Adult',\n",
       "  '6': 'Elderly'},\n",
       " 'patient.patientsex': {'1': 'Male', '2': 'Female'},\n",
       " 'patient.reaction.reactionoutcome': {'1': 'Recovered/resolved',\n",
       "  '2': 'Recovering/resolving',\n",
       "  '3': 'Not recovered/not resolved',\n",
       "  '4': 'Recovered/resolved with sequelae (consequent health issues)',\n",
       "  '5': 'Fatal'}}"
      ]
     },
     "execution_count": 4,
     "metadata": {},
     "output_type": "execute_result"
    }
   ],
   "source": [
    "f_t"
   ]
  },
  {
   "cell_type": "code",
   "execution_count": 7,
   "metadata": {},
   "outputs": [],
   "source": [
    "params_100 = {'search': {'receivedate': '[20040101+TO+20201024]'}#,'patient.drug.medicinalproduct':'symbicort'.upper()}\n",
    "          #, 'count':'patient.drug.medicinalproduct'\n",
    "        ,'limit':100}\n",
    "params_10 = {'search': {'receivedate': '[20040101+TO+20201024]'}#,'patient.drug.medicinalproduct':'symbicort'.upper()}\n",
    "          #, 'count':'patient.drug.medicinalproduct'\n",
    "        ,'limit':10}"
   ]
  },
  {
   "cell_type": "code",
   "execution_count": null,
   "metadata": {},
   "outputs": [],
   "source": [
    "faersApi = helpers.FaersApi()"
   ]
  }
 ],
 "metadata": {
  "kernelspec": {
   "display_name": "faers-env",
   "language": "python",
   "name": "faers-env"
  },
  "language_info": {
   "codemirror_mode": {
    "name": "ipython",
    "version": 3
   },
   "file_extension": ".py",
   "mimetype": "text/x-python",
   "name": "python",
   "nbconvert_exporter": "python",
   "pygments_lexer": "ipython3",
   "version": "3.7.3"
  }
 },
 "nbformat": 4,
 "nbformat_minor": 4
}
